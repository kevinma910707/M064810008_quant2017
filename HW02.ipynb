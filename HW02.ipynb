{
 "cells": [
  {
   "cell_type": "code",
   "execution_count": 6,
   "metadata": {},
   "outputs": [],
   "source": [
    "import os\n",
    "def main(): #把下面的東西放到 main裡面\n",
    "        print (\"Hello world\")\n",
    "        #顯示 Hello world\n",
    "        print (\"This is Alice's greeting.\")\n",
    "        #顯示 This is Alice's greeting.\n",
    "        print ('This is Bob\\s greeting.')\n",
    "        #顯示 This is Bob\\s greeting.\n",
    "        \n",
    "        \n",
    "        "
   ]
  },
  {
   "cell_type": "code",
   "execution_count": 9,
   "metadata": {
    "collapsed": true
   },
   "outputs": [],
   "source": [
    "def foo(a,b):\n",
    "    res=a+b\n",
    "    print('{} plus {} is equal to {}'.format(a,b,res)) #定義 a + b = res\n",
    "    if res < 50:\n",
    "        print(\"foo\") #如果 res 小於 50 顯示 foo\n",
    "    elif res>=50 and (a==42):\n",
    "        print(\"mars\") #如果 res 大於50 且 a 等於42 顯示 mars\n",
    "    else:\n",
    "        print(\"flow\") #如果 res 不是以上的情形 顯示flow\n",
    "    return res\n",
    "    \n",
    "\n",
    "    \n",
    "        \n",
    "        \n",
    "    \n",
    "    "
   ]
  },
  {
   "cell_type": "code",
   "execution_count": 10,
   "metadata": {},
   "outputs": [
    {
     "name": "stdout",
     "output_type": "stream",
     "text": [
      "5 plus 10 is equal to 15\n",
      "foo\n"
     ]
    },
    {
     "data": {
      "text/plain": [
       "15"
      ]
     },
     "execution_count": 10,
     "metadata": {},
     "output_type": "execute_result"
    }
   ],
   "source": [
    "foo(5,10)"
   ]
  },
  {
   "cell_type": "code",
   "execution_count": 11,
   "metadata": {},
   "outputs": [
    {
     "name": "stdout",
     "output_type": "stream",
     "text": [
      "Current work directory isC:\\Users\\kevin\\2017FM617\n"
     ]
    }
   ],
   "source": [
    "print ('Current work directory is' + os.getcwd()) #顯示目前檔案存在哪裡"
   ]
  },
  {
   "cell_type": "code",
   "execution_count": 12,
   "metadata": {},
   "outputs": [
    {
     "name": "stdout",
     "output_type": "stream",
     "text": [
      "==========\n"
     ]
    }
   ],
   "source": [
    "print (\"=\"*10) #顯示10個等號"
   ]
  },
  {
   "cell_type": "code",
   "execution_count": 14,
   "metadata": {
    "collapsed": true
   },
   "outputs": [],
   "source": [
    "counter=0\n",
    "counter+=1      #定義\"counter\"為0 \"counter+=1\"為1"
   ]
  },
  {
   "cell_type": "code",
   "execution_count": 19,
   "metadata": {},
   "outputs": [
    {
     "name": "stdout",
     "output_type": "stream",
     "text": [
      "i like to eat apple\n",
      "i like to eat oranges\n",
      "i like to eat banana\n"
     ]
    }
   ],
   "source": [
    "food = [\"apple\",\"oranges\",\"banana\"] #把 apple orange cat 放入 list\n",
    "\n",
    "for i in food: # food 內的迴圈\n",
    "    print(\"i like to eat \" + i) "
   ]
  },
  {
   "cell_type": "code",
   "execution_count": 28,
   "metadata": {},
   "outputs": [
    {
     "name": "stdout",
     "output_type": "stream",
     "text": [
      "count to ten:\n",
      "1\n",
      "2\n",
      "3\n",
      "4\n",
      "5\n",
      "6\n",
      "7\n",
      "8\n",
      "9\n",
      "10\n"
     ]
    }
   ],
   "source": [
    "    print(\"count to ten:\") #顯示count to ten\n",
    "    for i in range(10):\n",
    "        print (i+1) #default為0 所以加一讓他從1開始"
   ]
  },
  {
   "cell_type": "code",
   "execution_count": 35,
   "metadata": {},
   "outputs": [
    {
     "name": "stdout",
     "output_type": "stream",
     "text": [
      "Hello world\n",
      "This is Alice's greeting.\n",
      "This is Bob\\s greeting.\n"
     ]
    }
   ],
   "source": [
    "if __name__==\"__main__\": #main是一個python內部設定好的字串 看看是自己被自己執行 還是被別人執行 記得是兩個底線\n",
    "    main()"
   ]
  },
  {
   "cell_type": "code",
   "execution_count": null,
   "metadata": {
    "collapsed": true
   },
   "outputs": [],
   "source": []
  },
  {
   "cell_type": "code",
   "execution_count": null,
   "metadata": {
    "collapsed": true
   },
   "outputs": [],
   "source": []
  },
  {
   "cell_type": "code",
   "execution_count": null,
   "metadata": {
    "collapsed": true
   },
   "outputs": [],
   "source": []
  },
  {
   "cell_type": "code",
   "execution_count": null,
   "metadata": {
    "collapsed": true
   },
   "outputs": [],
   "source": []
  },
  {
   "cell_type": "code",
   "execution_count": null,
   "metadata": {
    "collapsed": true
   },
   "outputs": [],
   "source": []
  }
 ],
 "metadata": {
  "kernelspec": {
   "display_name": "Python 3",
   "language": "python",
   "name": "python3"
  },
  "language_info": {
   "codemirror_mode": {
    "name": "ipython",
    "version": 3
   },
   "file_extension": ".py",
   "mimetype": "text/x-python",
   "name": "python",
   "nbconvert_exporter": "python",
   "pygments_lexer": "ipython3",
   "version": "3.6.2"
  }
 },
 "nbformat": 4,
 "nbformat_minor": 2
}
